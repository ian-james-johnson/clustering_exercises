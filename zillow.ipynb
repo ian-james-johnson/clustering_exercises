{
 "cells": [
  {
   "cell_type": "code",
   "execution_count": null,
   "id": "3792e93c",
   "metadata": {},
   "outputs": [],
   "source": [
    "zoom chat text from maggie for sql\n",
    "\n",
    "\n",
    "\n",
    "select prop.parcelid, prop.fips, txn.transactiondate, pred.logerror\n",
    "from properties_2017 prop\n",
    "\n",
    "join (\n",
    "select parcelid, max(transactiondate) as transactiondate\n",
    "from predictions_2017\n",
    "group by parcelid\n",
    ") txn using(parcelid)\n",
    "\n",
    "join predictions_2017 pred using(parcelid, transactiondate)\n",
    ";\n",
    "\n",
    "\n",
    "\n",
    "\n",
    "\n",
    "Use zillow;\n",
    "\n",
    "\n",
    "\n",
    "select parcelid, count(*)\n",
    "from predictions_2017\n",
    "group by parcelid\n",
    "having count(*) > 1;\n",
    "\n",
    "select count(*) from predictions_2017;\n",
    "\n",
    "select count(*) from\n",
    "(\n",
    "select parcelid, max(transactiondate) as transactiondate\n",
    "from predictions_2017\n",
    "group by parcelid\n",
    ") a;"
   ]
  },
  {
   "cell_type": "code",
   "execution_count": 6,
   "id": "78a65ce1",
   "metadata": {},
   "outputs": [],
   "source": [
    "import numpy as np\n",
    "import pandas as pd\n",
    "import matplotlib.pyplot as plt\n",
    "import seaborn as sns\n",
    "\n",
    "from sklearn.model_selection import train_test_split\n",
    "from sklearn.preprocessing import MinMaxScaler\n",
    "\n",
    "import os\n",
    "\n",
    "import warnings\n",
    "warnings.filterwarnings('ignore')\n",
    "\n",
    "from env import host, user, password\n",
    "import acquire"
   ]
  },
  {
   "cell_type": "code",
   "execution_count": 2,
   "id": "af9eb285",
   "metadata": {},
   "outputs": [
    {
     "ename": "NameError",
     "evalue": "name 'zillow' is not defined",
     "output_type": "error",
     "traceback": [
      "\u001b[0;31m---------------------------------------------------------------------------\u001b[0m",
      "\u001b[0;31mNameError\u001b[0m                                 Traceback (most recent call last)",
      "\u001b[0;32m<ipython-input-2-d4d41c6d4e69>\u001b[0m in \u001b[0;36m<module>\u001b[0;34m\u001b[0m\n\u001b[0;32m----> 1\u001b[0;31m \u001b[0mdf\u001b[0m \u001b[0;34m=\u001b[0m \u001b[0macquire\u001b[0m\u001b[0;34m.\u001b[0m\u001b[0mget_zillow_data\u001b[0m\u001b[0;34m(\u001b[0m\u001b[0;34m)\u001b[0m\u001b[0;34m\u001b[0m\u001b[0;34m\u001b[0m\u001b[0m\n\u001b[0m\u001b[1;32m      2\u001b[0m \u001b[0mdf\u001b[0m\u001b[0;34m.\u001b[0m\u001b[0mhead\u001b[0m\u001b[0;34m(\u001b[0m\u001b[0;34m)\u001b[0m\u001b[0;34m\u001b[0m\u001b[0;34m\u001b[0m\u001b[0m\n",
      "\u001b[0;32m~/codeup_data_science/clustering_exercises/acquire.py\u001b[0m in \u001b[0;36mget_zillow_data\u001b[0;34m()\u001b[0m\n\u001b[1;32m     46\u001b[0m \u001b[0;34m\u001b[0m\u001b[0m\n\u001b[1;32m     47\u001b[0m         \u001b[0;31m# Write that dataframe to csv on local drive, so that I won't need to access the database later\u001b[0m\u001b[0;34m\u001b[0m\u001b[0;34m\u001b[0m\u001b[0;34m\u001b[0m\u001b[0m\n\u001b[0;32m---> 48\u001b[0;31m         \u001b[0mdf\u001b[0m\u001b[0;34m.\u001b[0m\u001b[0mto_csv\u001b[0m\u001b[0;34m(\u001b[0m\u001b[0mzillow\u001b[0m\u001b[0;34m.\u001b[0m\u001b[0mcsv\u001b[0m\u001b[0;34m)\u001b[0m\u001b[0;34m\u001b[0m\u001b[0;34m\u001b[0m\u001b[0m\n\u001b[0m\u001b[1;32m     49\u001b[0m \u001b[0;34m\u001b[0m\u001b[0m\n\u001b[1;32m     50\u001b[0m         \u001b[0;31m# Return the dataframe for immediate use\u001b[0m\u001b[0;34m\u001b[0m\u001b[0;34m\u001b[0m\u001b[0;34m\u001b[0m\u001b[0m\n",
      "\u001b[0;31mNameError\u001b[0m: name 'zillow' is not defined"
     ]
    }
   ],
   "source": [
    "df = acquire.get_zillow_data()\n",
    "df.head()"
   ]
  },
  {
   "cell_type": "code",
   "execution_count": 7,
   "id": "8d4073ef",
   "metadata": {},
   "outputs": [],
   "source": [
    "# Function to create a connection to the Codeup SQL database\n",
    "def get_db_url(host, user, password, database):    \n",
    "    url = f'mysql+pymysql://{user}:{password}@{host}/{database}'\n",
    "    return url\n",
    "\n",
    "\n",
    "\n",
    "# This functon gets Zillow data\n",
    "# First the function checks for a csv file on the local drive\n",
    "# If there is no locat file, then it gets the file from the Codeup database\n",
    "def get_zillow_data():\n",
    "    filename = \"zillow.csv\"\n",
    "    if os.path.isfile(filename):\n",
    "        return pd.read_csv(filename, index_col=0)\n",
    "    else:\n",
    "        # This is the database being used\n",
    "        database = 'zillow'\n",
    "        # This is the SQL query made to the database \n",
    "        query = '''\n",
    "                SELECT prop.*, pred.logerror, pred.transactiondate, air.airconditioningdesc, arch.architecturalstyledesc, build.buildingclassdesc, heat.heatingorsystemdesc, \n",
    "                landuse.propertylandusedesc, story.storydesc, construct.typeconstructiondesc\n",
    "                FROM properties_2017 prop\n",
    "                INNER JOIN (SELECT parcelid, Max(transactiondate) transactiondate FROM predictions_2017 GROUP BY parcelid) pred USING (parcelid)\n",
    "                JOIN predictions_2017 as pred USING (parcelid, transactiondate)\n",
    "                LEFT JOIN airconditioningtype air USING (airconditioningtypeid)\n",
    "                LEFT JOIN architecturalstyletype arch USING (architecturalstyletypeid)\n",
    "                LEFT JOIN buildingclasstype build USING (buildingclasstypeid)\n",
    "                LEFT JOIN heatingorsystemtype heat USING (heatingorsystemtypeid)\n",
    "                LEFT JOIN propertylandusetype landuse USING (propertylandusetypeid)\n",
    "                LEFT JOIN storytype story USING (storytypeid)\n",
    "                LEFT JOIN typeconstructiontype construct USING (typeconstructiontypeid)\n",
    "                WHERE prop.latitude IS NOT NULL AND prop.longitude IS NOT NULL\n",
    "                LIMIT 10000\n",
    "                '''\n",
    "\n",
    "        # Convert the SQL query result into a pandas dataframe\n",
    "        # get_db_url is another function in this file\n",
    "        df = pd.read_sql(query, get_db_url(host, user, password, database))\n",
    "\n",
    "        # Write that dataframe to csv on local drive, so that I won't need to access the database later\n",
    "        df.to_csv(zillow.csv)\n",
    "\n",
    "        # Return the dataframe for immediate use\n",
    "        return df"
   ]
  },
  {
   "cell_type": "code",
   "execution_count": 8,
   "id": "019192b2",
   "metadata": {},
   "outputs": [
    {
     "ename": "NameError",
     "evalue": "name 'zillow' is not defined",
     "output_type": "error",
     "traceback": [
      "\u001b[0;31m---------------------------------------------------------------------------\u001b[0m",
      "\u001b[0;31mNameError\u001b[0m                                 Traceback (most recent call last)",
      "\u001b[0;32m<ipython-input-8-256eb074a884>\u001b[0m in \u001b[0;36m<module>\u001b[0;34m\u001b[0m\n\u001b[0;32m----> 1\u001b[0;31m \u001b[0mdf\u001b[0m \u001b[0;34m=\u001b[0m \u001b[0mget_zillow_data\u001b[0m\u001b[0;34m(\u001b[0m\u001b[0;34m)\u001b[0m\u001b[0;34m\u001b[0m\u001b[0;34m\u001b[0m\u001b[0m\n\u001b[0m\u001b[1;32m      2\u001b[0m \u001b[0mdf\u001b[0m\u001b[0;34m.\u001b[0m\u001b[0mhead\u001b[0m\u001b[0;34m(\u001b[0m\u001b[0;34m)\u001b[0m\u001b[0;34m\u001b[0m\u001b[0;34m\u001b[0m\u001b[0m\n",
      "\u001b[0;32m<ipython-input-7-57ff171a9640>\u001b[0m in \u001b[0;36mget_zillow_data\u001b[0;34m()\u001b[0m\n\u001b[1;32m     39\u001b[0m \u001b[0;34m\u001b[0m\u001b[0m\n\u001b[1;32m     40\u001b[0m         \u001b[0;31m# Write that dataframe to csv on local drive, so that I won't need to access the database later\u001b[0m\u001b[0;34m\u001b[0m\u001b[0;34m\u001b[0m\u001b[0;34m\u001b[0m\u001b[0m\n\u001b[0;32m---> 41\u001b[0;31m         \u001b[0mdf\u001b[0m\u001b[0;34m.\u001b[0m\u001b[0mto_csv\u001b[0m\u001b[0;34m(\u001b[0m\u001b[0mzillow\u001b[0m\u001b[0;34m.\u001b[0m\u001b[0mcsv\u001b[0m\u001b[0;34m)\u001b[0m\u001b[0;34m\u001b[0m\u001b[0;34m\u001b[0m\u001b[0m\n\u001b[0m\u001b[1;32m     42\u001b[0m \u001b[0;34m\u001b[0m\u001b[0m\n\u001b[1;32m     43\u001b[0m         \u001b[0;31m# Return the dataframe for immediate use\u001b[0m\u001b[0;34m\u001b[0m\u001b[0;34m\u001b[0m\u001b[0;34m\u001b[0m\u001b[0m\n",
      "\u001b[0;31mNameError\u001b[0m: name 'zillow' is not defined"
     ]
    }
   ],
   "source": [
    "df = get_zillow_data()\n",
    "df.head()"
   ]
  },
  {
   "cell_type": "code",
   "execution_count": null,
   "id": "b8e2f4ed",
   "metadata": {},
   "outputs": [],
   "source": []
  }
 ],
 "metadata": {
  "kernelspec": {
   "display_name": "Python 3",
   "language": "python",
   "name": "python3"
  },
  "language_info": {
   "codemirror_mode": {
    "name": "ipython",
    "version": 3
   },
   "file_extension": ".py",
   "mimetype": "text/x-python",
   "name": "python",
   "nbconvert_exporter": "python",
   "pygments_lexer": "ipython3",
   "version": "3.8.8"
  }
 },
 "nbformat": 4,
 "nbformat_minor": 5
}

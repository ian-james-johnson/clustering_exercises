{
 "cells": [
  {
   "cell_type": "code",
   "execution_count": null,
   "id": "3792e93c",
   "metadata": {},
   "outputs": [],
   "source": [
    "zoom chat text from maggie for sql\n",
    "\n",
    "\n",
    "\n",
    "select prop.parcelid, prop.fips, txn.transactiondate, pred.logerror\n",
    "from properties_2017 prop\n",
    "\n",
    "join (\n",
    "select parcelid, max(transactiondate) as transactiondate\n",
    "from predictions_2017\n",
    "group by parcelid\n",
    ") txn using(parcelid)\n",
    "\n",
    "join predictions_2017 pred using(parcelid, transactiondate)\n",
    ";\n",
    "\n",
    "\n",
    "\n",
    "\n",
    "\n",
    "Use zillow;\n",
    "\n",
    "\n",
    "\n",
    "select parcelid, count(*)\n",
    "from predictions_2017\n",
    "group by parcelid\n",
    "having count(*) > 1;\n",
    "\n",
    "select count(*) from predictions_2017;\n",
    "\n",
    "select count(*) from\n",
    "(\n",
    "select parcelid, max(transactiondate) as transactiondate\n",
    "from predictions_2017\n",
    "group by parcelid\n",
    ") a;"
   ]
  },
  {
   "cell_type": "code",
   "execution_count": 1,
   "id": "78a65ce1",
   "metadata": {},
   "outputs": [],
   "source": [
    "import numpy as np\n",
    "import pandas as pd\n",
    "import matplotlib.pyplot as plt\n",
    "import seaborn as sns\n",
    "\n",
    "from sklearn.model_selection import train_test_split\n",
    "from sklearn.preprocessing import MinMaxScaler\n",
    "\n",
    "import warnings\n",
    "warnings.filterwarnings('ignore')\n",
    "\n",
    "from env import host, user, password\n",
    "import acquire"
   ]
  },
  {
   "cell_type": "code",
   "execution_count": null,
   "id": "af9eb285",
   "metadata": {},
   "outputs": [],
   "source": [
    "df = acquire.get_zillow_data()\n",
    "df.head()"
   ]
  },
  {
   "cell_type": "code",
   "execution_count": null,
   "id": "8d4073ef",
   "metadata": {},
   "outputs": [],
   "source": []
  }
 ],
 "metadata": {
  "kernelspec": {
   "display_name": "Python 3",
   "language": "python",
   "name": "python3"
  },
  "language_info": {
   "codemirror_mode": {
    "name": "ipython",
    "version": 3
   },
   "file_extension": ".py",
   "mimetype": "text/x-python",
   "name": "python",
   "nbconvert_exporter": "python",
   "pygments_lexer": "ipython3",
   "version": "3.8.8"
  }
 },
 "nbformat": 4,
 "nbformat_minor": 5
}

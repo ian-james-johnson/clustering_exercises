{
 "cells": [
  {
   "cell_type": "code",
   "execution_count": null,
   "id": "3792e93c",
   "metadata": {},
   "outputs": [],
   "source": [
    "zoom chat text from maggie for sql\n",
    "\n",
    "\n",
    "\n",
    "select prop.parcelid, prop.fips, txn.transactiondate, pred.logerror\n",
    "from properties_2017 prop\n",
    "\n",
    "join (\n",
    "select parcelid, max(transactiondate) as transactiondate\n",
    "from predictions_2017\n",
    "group by parcelid\n",
    ") txn using(parcelid)\n",
    "\n",
    "join predictions_2017 pred using(parcelid, transactiondate)\n",
    ";\n",
    "\n",
    "\n",
    "\n",
    "\n",
    "\n",
    "Use zillow;\n",
    "\n",
    "\n",
    "\n",
    "select parcelid, count(*)\n",
    "from predictions_2017\n",
    "group by parcelid\n",
    "having count(*) > 1;\n",
    "\n",
    "select count(*) from predictions_2017;\n",
    "\n",
    "select count(*) from\n",
    "(\n",
    "select parcelid, max(transactiondate) as transactiondate\n",
    "from predictions_2017\n",
    "group by parcelid\n",
    ") a;"
   ]
  }
 ],
 "metadata": {
  "kernelspec": {
   "display_name": "Python 3",
   "language": "python",
   "name": "python3"
  },
  "language_info": {
   "codemirror_mode": {
    "name": "ipython",
    "version": 3
   },
   "file_extension": ".py",
   "mimetype": "text/x-python",
   "name": "python",
   "nbconvert_exporter": "python",
   "pygments_lexer": "ipython3",
   "version": "3.8.8"
  }
 },
 "nbformat": 4,
 "nbformat_minor": 5
}
